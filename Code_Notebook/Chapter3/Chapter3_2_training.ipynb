{
 "cells": [
  {
   "cell_type": "code",
   "execution_count": 1,
   "metadata": {},
   "outputs": [],
   "source": [
    "import pandas as pd\n",
    "import numpy as np\n",
    "from matplotlib.ticker import MultipleLocator\n",
    "import matplotlib as mpl\n",
    "mpl.rcParams[\"font.family\"] = 'Arial'  #默认字体类型\n",
    "mpl.rcParams[\"mathtext.fontset\"] = 'cm' #数学文字字体\n",
    "mpl.rcParams[\"contour.negative_linestyle\"] = 'dashed'  #默认字体类型\n",
    "import matplotlib.pyplot as plt\n",
    "import os\n",
    "from netCDF4 import Dataset\n",
    "# 新增\n",
    "import meshio \n",
    "import h5py\n",
    "import scipy.interpolate"
   ]
  },
  {
   "cell_type": "code",
   "execution_count": 2,
   "metadata": {},
   "outputs": [
    {
     "name": "stdout",
     "output_type": "stream",
     "text": [
      "<meshio mesh object>\n",
      "  Number of points: 20606\n",
      "  Number of cells:\n",
      "    triangle: 41292\n",
      "  Point data: RegionId\n",
      "  Cell data: RegionId\n"
     ]
    }
   ],
   "source": [
    "mesh=meshio.read('Data/UnstructuredGrid/porous1.vtu')\n",
    "print(mesh)"
   ]
  },
  {
   "cell_type": "code",
   "execution_count": 31,
   "metadata": {},
   "outputs": [
    {
     "name": "stdout",
     "output_type": "stream",
     "text": [
      "[0 0 0 ... 3 3 3]\n",
      "[0. 1.]\n",
      "[[1 7 2]\n",
      " [1 3 7]]\n"
     ]
    }
   ],
   "source": [
    "x,y,z=mesh.points[:,0],mesh.points[:,1],mesh.points[:,2]\n",
    "triangles=mesh.cells[0].data\n",
    "pointdata=mesh.point_data['RegionId']\n",
    "celldata=mesh.cell_data['RegionId'][0]\n",
    "print(celldata)\n",
    "print(np.unique(z))\n",
    "print(triangles[1:3,:])"
   ]
  },
  {
   "cell_type": "code",
   "execution_count": 32,
   "metadata": {},
   "outputs": [
    {
     "name": "stdout",
     "output_type": "stream",
     "text": [
      "41292 41292\n"
     ]
    },
    {
     "data": {
      "image/png": "[encoded data removed]",
      "text/plain": [
       "<Figure size 432x288 with 1 Axes>"
      ]
     },
     "metadata": {
      "needs_background": "light"
     },
     "output_type": "display_data"
    }
   ],
   "source": [
    "fig=plt.figure()\n",
    "ax=plt.gca()\n",
    "# 分离\n",
    "z1_triangles, z2_triangles, z3_triangles=z[triangles[:,0]], z[triangles[:,1]], z[triangles[:,2]]\n",
    "z0=np.min(z)\n",
    "ind_triangles_z0=((z1_triangles == z0) & (z2_triangles == z0) &(z3_triangles == z0))\n",
    "# ax.triplot(x,y,triangles[ind_triangles_z0,:])\n",
    "# \n",
    "# ax.tricontourf(x,y,triangles,pointdata)\n",
    "ax.tripcolor(x,y,triangles, facecolors=celldata)\n",
    "plt.show()"
   ]
  },
  {
   "cell_type": "code",
   "execution_count": 36,
   "metadata": {},
   "outputs": [
    {
     "name": "stdout",
     "output_type": "stream",
     "text": [
      "<KeysViewHDF5 ['BoundaryPolygon_ptID', 'EL2NOD', 'GCOORD', 'PhaseID', 'PointID']> <KeysViewHDF5 ['Cca', 'Cso4', 'Kr', 'P', 'Perm', 'Perm_log', 'Rho_f', 'S_CaSO4', 'S_FeS2', 'T', 'Vx', 'Vz']>\n"
     ]
    }
   ],
   "source": [
    "meshfile='Data/UnstructuredGrid/XDMF/MESH.h5'\n",
    "fieldfile='Data/UnstructuredGrid/XDMF/Data_06000.h5'\n",
    "MESH=h5py.File(meshfile,'r')\n",
    "VAR=h5py.File(fieldfile,'r')\n",
    "print(MESH.keys(), VAR.keys())"
   ]
  },
  {
   "cell_type": "code",
   "execution_count": 55,
   "metadata": {},
   "outputs": [
    {
     "name": "stdout",
     "output_type": "stream",
     "text": [
      "74044 个三角形 37319 个点\n",
      "[1 2]\n"
     ]
    }
   ],
   "source": [
    "GCOORD=MESH['GCOORD'][:]\n",
    "x,y=GCOORD[:,0],GCOORD[:,1]\n",
    "triangles=MESH['EL2NOD'][:]\n",
    "triangles=triangles.reshape(-1,4)\n",
    "triangles=triangles[:,1:4]\n",
    "# \n",
    "print(len(triangles),\"个三角形\", len(x),'个点')\n",
    "phaseID=MESH['PhaseID'][:]\n",
    "phaseID_unique=np.unique(phaseID)\n",
    "print(phaseID_unique)"
   ]
  },
  {
   "cell_type": "code",
   "execution_count": 86,
   "metadata": {},
   "outputs": [
    {
     "name": "stdout",
     "output_type": "stream",
     "text": [
      "(200, 600) (200, 600)\n"
     ]
    },
    {
     "data": {
      "image/png": "[encoded data removed]",
      "text/plain": [
       "<Figure size 432x288 with 1 Axes>"
      ]
     },
     "metadata": {
      "needs_background": "light"
     },
     "output_type": "display_data"
    }
   ],
   "source": [
    "fig=plt.figure()\n",
    "\n",
    "ax=plt.gca()\n",
    "ax.axis('scaled')\n",
    "ax.set_xlim(np.min(x),np.max(x))\n",
    "ax.set_ylim(np.min(y),np.max(y))\n",
    "# for phaseid in phaseID_unique:\n",
    "#     ax.triplot(x,y,triangles[phaseID==phaseid,:], lw=0.2,label=phaseid)\n",
    "# # ax.legend(handles=(),labels=())\n",
    "\n",
    "var=VAR['T'][:]\n",
    "ax.tricontourf(x,y,triangles,var,levels=100,extend='both')\n",
    "# ax.tricontour(x,y,triangles,var,colors='w')\n",
    "\n",
    "vx=VAR['Vx'][:]\n",
    "vy=VAR['Vz'][:]\n",
    "YY,XX = np.mgrid[np.min(y):np.max(y):200j, np.min(x):np.max(x):600j]\n",
    "print(YY.shape,XX.shape)\n",
    "VX = scipy.interpolate.griddata((x,y),vx, (XX.reshape(-1,),YY.reshape(-1,)) , method='cubic').ravel()\n",
    "VY = scipy.interpolate.griddata((x,y),vy, (XX.reshape(-1,),YY.reshape(-1,)) , method='cubic').ravel()\n",
    "VX=VX.reshape(XX.shape)\n",
    "VY=VY.reshape(XX.shape)\n",
    "seed_x=[-200,-100,0,100,200]\n",
    "seed_y=np.zeros_like(seed_x)-50\n",
    "seed_points=np.array([seed_x,seed_y])\n",
    "\n",
    "ax.streamplot(XX,YY,VX,VY,density=[4,2], start_points=seed_points.T, color='w')\n",
    "\n",
    "plt.show()"
   ]
  },
  {
   "cell_type": "code",
   "execution_count": null,
   "metadata": {},
   "outputs": [],
   "source": []
  }
 ],
 "metadata": {
  "kernelspec": {
   "display_name": "Python 3",
   "language": "python",
   "name": "python3"
  },
  "language_info": {
   "codemirror_mode": {
    "name": "ipython",
    "version": 3
   },
   "file_extension": ".py",
   "mimetype": "text/x-python",
   "name": "python",
   "nbconvert_exporter": "python",
   "pygments_lexer": "ipython3",
   "version": "3.7.4"
  }
 },
 "nbformat": 4,
 "nbformat_minor": 4
}
