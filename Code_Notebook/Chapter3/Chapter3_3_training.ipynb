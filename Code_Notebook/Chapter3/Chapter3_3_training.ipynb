{
 "cells": [
  {
   "cell_type": "code",
   "execution_count": 1,
   "metadata": {},
   "outputs": [],
   "source": [
    "import pandas as pd\n",
    "import numpy as np\n",
    "from matplotlib.ticker import MultipleLocator\n",
    "import matplotlib as mpl\n",
    "mpl.rcParams[\"font.family\"] = 'Arial'  #默认字体类型\n",
    "mpl.rcParams[\"mathtext.fontset\"] = 'cm' #数学文字字体\n",
    "mpl.rcParams[\"contour.negative_linestyle\"] = 'dashed'  #默认字体类型\n",
    "import matplotlib.pyplot as plt\n",
    "import os\n",
    "from netCDF4 import Dataset\n",
    "# 新增\n",
    "import seaborn as sns"
   ]
  },
  {
   "cell_type": "code",
   "execution_count": 23,
   "metadata": {},
   "outputs": [
    {
     "name": "stdout",
     "output_type": "stream",
     "text": [
      "7 7 (7, 7)\n"
     ]
    },
    {
     "data": {
      "image/png": "[encoded data removed]",
      "text/plain": [
       "<Figure size 432x432 with 1 Axes>"
      ]
     },
     "metadata": {
      "needs_background": "light"
     },
     "output_type": "display_data"
    }
   ],
   "source": [
    "vegetables = [\"cucumber\", \"tomato\", \"lettuce\", \"asparagus\",\n",
    "              \"potato\", \"wheat\", \"barley\"]\n",
    "farmers = [\"Farmer Joe\", \"Upland Bros.\", \"Smith Gardening\",\n",
    "           \"Agrifun\", \"Organiculture\", \"BioGoods Ltd.\", \"Cornylee Corp.\"]\n",
    "\n",
    "harvest = np.array([[0.8, 2.4, 2.5, 3.9, 0.0, 4.0, 0.0],\n",
    "                    [2.4, 0.0, 4.0, 1.0, 2.7, 0.0, 0.0],\n",
    "                    [1.1, 2.4, 0.8, 4.3, 1.9, 4.4, 0.0],\n",
    "                    [0.6, 0.0, 0.3, 0.0, 3.1, 0.0, 0.0],\n",
    "                    [0.7, 1.7, 0.6, 2.6, 2.2, 6.2, 0.0],\n",
    "                    [1.3, 1.2, 0.0, 0.0, 0.0, 3.2, 5.1],\n",
    "                    [0.1, 2.0, 0.0, 1.4, 0.0, 1.9, 6.3]])\n",
    "print(len(vegetables), len(farmers),harvest.shape)\n",
    "# plot\n",
    "fig=plt.figure(figsize=(6,6))\n",
    "ax=plt.gca()\n",
    "# ax.imshow(harvest,interpolation='bilinear')\n",
    "ax.pcolor(harvest,cmap='plasma')\n",
    "# ax.pcolormesh(harvest)\n",
    "plt.savefig('test.pdf',dpi=400)\n",
    "plt.show()"
   ]
  },
  {
   "cell_type": "code",
   "execution_count": 46,
   "metadata": {},
   "outputs": [
    {
     "name": "stdout",
     "output_type": "stream",
     "text": [
      "0.0 6.3\n",
      "7 0 6\n",
      "[-0.5  0.5  1.5  2.5  3.5  4.5  5.5  6.5]\n"
     ]
    },
    {
     "data": {
      "image/png": "[encoded data removed]",
      "text/plain": [
       "<Figure size 432x432 with 1 Axes>"
      ]
     },
     "metadata": {
      "needs_background": "light"
     },
     "output_type": "display_data"
    }
   ],
   "source": [
    "data=harvest\n",
    "print(data.min(),data.max())\n",
    "# \n",
    "minlevel,maxlevel=int(np.min(data)),int(np.max(data))\n",
    "nlevel=int(maxlevel-minlevel)+1\n",
    "print(nlevel,minlevel,maxlevel)\n",
    "cdata=np.linspace(minlevel-0.5,maxlevel+0.5, nlevel+1)\n",
    "norm=mpl.colors.BoundaryNorm(cdata,nlevel)\n",
    "print(cdata)\n",
    "# plot\n",
    "fig=plt.figure(figsize=(6,6))\n",
    "ax=plt.gca()\n",
    "# ax.imshow(harvest,interpolation='bilinear')\n",
    "im=ax.pcolor(data,cmap=plt.get_cmap('Paired',nlevel),norm=norm)\n",
    "ax_cb=ax.inset_axes([1.02, 0, 0.05, 1], transform=ax.transAxes)\n",
    "plt.colorbar(im,cax=ax_cb,ticks=cdata+0.5)\n",
    "\n",
    "ax.grid(which='major',color='w',lw=3)\n",
    "# ax.pcolormesh(harvest)\n",
    "plt.show()"
   ]
  },
  {
   "cell_type": "code",
   "execution_count": 69,
   "metadata": {},
   "outputs": [
    {
     "data": {
      "text/plain": [
       "<matplotlib.collections.PolyCollection at 0x7fbd9d638a90>"
      ]
     },
     "execution_count": 69,
     "metadata": {},
     "output_type": "execute_result"
    },
    {
     "data": {
      "image/png": "[encoded data removed]",
      "text/plain": [
       "<Figure size 432x432 with 1 Axes>"
      ]
     },
     "metadata": {
      "needs_background": "light"
     },
     "output_type": "display_data"
    }
   ],
   "source": [
    "data_cars=pd.read_csv('Data/mtcars/mtcars.csv')\n",
    "df=data_cars.set_index('model')\n",
    "\n",
    "del df.index.name\n",
    "\n",
    "data=df.values\n",
    "\n",
    "clustermap=sns.clustermap(df, z_score=1)\n",
    "plt.close()\n",
    "clusterdata=clustermap.data2d\n",
    "\n",
    "# plot\n",
    "fig=plt.figure(figsize=(6,6))\n",
    "ax=plt.gca()\n",
    "ax.pcolor(data/data.max(axis=0))\n",
    "ax.pcolor(clusterdata.values)"
   ]
  },
  {
   "cell_type": "code",
   "execution_count": null,
   "metadata": {},
   "outputs": [],
   "source": []
  }
 ],
 "metadata": {
  "kernelspec": {
   "display_name": "Python 3",
   "language": "python",
   "name": "python3"
  },
  "language_info": {
   "codemirror_mode": {
    "name": "ipython",
    "version": 3
   },
   "file_extension": ".py",
   "mimetype": "text/x-python",
   "name": "python",
   "nbconvert_exporter": "python",
   "pygments_lexer": "ipython3",
   "version": "3.7.4"
  }
 },
 "nbformat": 4,
 "nbformat_minor": 4
}
